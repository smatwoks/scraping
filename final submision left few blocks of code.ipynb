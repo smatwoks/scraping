{
 "cells": [
  {
   "cell_type": "code",
   "execution_count": 27,
   "id": "0ca89f83",
   "metadata": {},
   "outputs": [
    {
     "ename": "TypeError",
     "evalue": "can only concatenate str (not \"NoneType\") to str",
     "output_type": "error",
     "traceback": [
      "\u001b[1;31m---------------------------------------------------------------------------\u001b[0m",
      "\u001b[1;31mTypeError\u001b[0m                                 Traceback (most recent call last)",
      "Input \u001b[1;32mIn [27]\u001b[0m, in \u001b[0;36m<cell line: 22>\u001b[1;34m()\u001b[0m\n\u001b[0;32m     21\u001b[0m a\u001b[38;5;241m=\u001b[39m\u001b[38;5;241m0\u001b[39m\n\u001b[0;32m     22\u001b[0m \u001b[38;5;28;01mfor\u001b[39;00m url,name,price,ratings,noratings \u001b[38;5;129;01min\u001b[39;00m \u001b[38;5;28mzip\u001b[39m(product_url,product_name,product_price,rating,no_ratings):\n\u001b[1;32m---> 23\u001b[0m     pu\u001b[38;5;241m.\u001b[39mappend(\u001b[38;5;124;43m'\u001b[39;49m\u001b[38;5;124;43mhttps://www.amazon.in\u001b[39;49m\u001b[38;5;124;43m'\u001b[39;49m\u001b[38;5;241;43m+\u001b[39;49m\u001b[43murl\u001b[49m\u001b[38;5;241;43m.\u001b[39;49m\u001b[43mget\u001b[49m\u001b[43m(\u001b[49m\u001b[38;5;124;43m'\u001b[39;49m\u001b[38;5;124;43mhref\u001b[39;49m\u001b[38;5;124;43m'\u001b[39;49m\u001b[43m)\u001b[49m)\n\u001b[0;32m     24\u001b[0m     pn\u001b[38;5;241m.\u001b[39mappend(name\u001b[38;5;241m.\u001b[39mtext)\n\u001b[0;32m     25\u001b[0m     pp\u001b[38;5;241m.\u001b[39mappend(price\u001b[38;5;241m.\u001b[39mtext)\n",
      "\u001b[1;31mTypeError\u001b[0m: can only concatenate str (not \"NoneType\") to str"
     ]
    }
   ],
   "source": [
    "import requests \n",
    "from bs4 import BeautifulSoup\n",
    "url=\"https://www.amazon.in/s?k=bags&crid=2M096C61O4MLT&qid=1653308124&sprefix=ba%2Caps%2C283&ref=sr_pg_1\"\n",
    "headers={\"User-Agent\": \"Mozilla/5.0 (Windows NT 10.0; Win64; x64) AppleWebKit/537.36 (KHTML, like Gecko) Chrome/105.0.0.0 Safari/537.36\"}\n",
    "page=requests.get(url,headers=headers)\n",
    "soup1=BeautifulSoup(page.text,\"html.parser\")\n",
    "soup2=BeautifulSoup(soup1.prettify(),\"html.parser\")\n",
    "product_url=soup2.find_all('h2',class_=\"a-size-mini a-spacing-none a-color-base s-line-clamp-2\")\n",
    "product_name=soup2.find_all('span',class_='a-size-medium a-color-base a-text-normal')\n",
    "product_price=soup2.find_all('span',class_='a-offscreen')\n",
    "rating=soup2.find_all('span',class_='a-icon-alt')\n",
    "no_ratings=soup2.find_all('span',class_='a-size-base s-underline-text')\n",
    "\n",
    "\n",
    "pu=[]\n",
    "pn=[]\n",
    "pp=[]\n",
    "pr=[]\n",
    "pnr=[]\n",
    "\n",
    "a=0\n",
    "for url,name,price,ratings,noratings in zip(product_url,product_name,product_price,rating,no_ratings):\n",
    "    pu.append('https://www.amazon.in'+url.get('href'))\n",
    "    pn.append(name.text)\n",
    "    pp.append(price.text)\n",
    "    pr.append(ratings.text)\n",
    "    pnr.append(noratings.text)\n",
    "    a=a+1\n",
    "    \n",
    "       \n",
    "for i in range(1,a+1):\n",
    "    print(pu[i].strip())\n",
    "    print(pn[i].strip())\n",
    "    print(pp[i].strip())\n",
    "    print(pr[i].strip())\n",
    "    print(pnr[i].strip())"
   ]
  },
  {
   "cell_type": "code",
   "execution_count": 30,
   "id": "8970fffe",
   "metadata": {},
   "outputs": [
    {
     "name": "stdout",
     "output_type": "stream",
     "text": [
      "enter the product detaliesbags\n",
      "https://www.amazon.in/s?k=bags&page=1&crid=2M096C61O4MLT&qid=1664006420&sprefix=ba%2Caps%2C283&ref=sr_pg_1\n",
      "24\n",
      "https://www.amazon.in/s?k=bags&page=2&crid=2M096C61O4MLT&qid=1664006420&sprefix=ba%2Caps%2C283&ref=sr_pg_2\n",
      "23\n",
      "https://www.amazon.in/s?k=bags&page=3&crid=2M096C61O4MLT&qid=1664006420&sprefix=ba%2Caps%2C283&ref=sr_pg_3\n",
      "23\n",
      "https://www.amazon.in/s?k=bags&page=4&crid=2M096C61O4MLT&qid=1664006420&sprefix=ba%2Caps%2C283&ref=sr_pg_4\n",
      "23\n",
      "https://www.amazon.in/s?k=bags&page=5&crid=2M096C61O4MLT&qid=1664006420&sprefix=ba%2Caps%2C283&ref=sr_pg_5\n",
      "23\n",
      "https://www.amazon.in/s?k=bags&page=6&crid=2M096C61O4MLT&qid=1664006420&sprefix=ba%2Caps%2C283&ref=sr_pg_6\n",
      "24\n",
      "https://www.amazon.in/s?k=bags&page=7&crid=2M096C61O4MLT&qid=1664006420&sprefix=ba%2Caps%2C283&ref=sr_pg_7\n",
      "23\n",
      "https://www.amazon.in/s?k=bags&page=8&crid=2M096C61O4MLT&qid=1664006420&sprefix=ba%2Caps%2C283&ref=sr_pg_8\n",
      "22\n",
      "https://www.amazon.in/s?k=bags&page=9&crid=2M096C61O4MLT&qid=1664006420&sprefix=ba%2Caps%2C283&ref=sr_pg_9\n",
      "24\n",
      "https://www.amazon.in/s?k=bags&page=10&crid=2M096C61O4MLT&qid=1664006420&sprefix=ba%2Caps%2C283&ref=sr_pg_10\n",
      "23\n",
      "https://www.amazon.in/s?k=bags&page=11&crid=2M096C61O4MLT&qid=1664006420&sprefix=ba%2Caps%2C283&ref=sr_pg_11\n",
      "23\n",
      "https://www.amazon.in/s?k=bags&page=12&crid=2M096C61O4MLT&qid=1664006420&sprefix=ba%2Caps%2C283&ref=sr_pg_12\n",
      "23\n",
      "https://www.amazon.in/s?k=bags&page=13&crid=2M096C61O4MLT&qid=1664006420&sprefix=ba%2Caps%2C283&ref=sr_pg_13\n",
      "23\n",
      "https://www.amazon.in/s?k=bags&page=14&crid=2M096C61O4MLT&qid=1664006420&sprefix=ba%2Caps%2C283&ref=sr_pg_14\n",
      "22\n",
      "https://www.amazon.in/s?k=bags&page=15&crid=2M096C61O4MLT&qid=1664006420&sprefix=ba%2Caps%2C283&ref=sr_pg_15\n",
      "22\n",
      "https://www.amazon.in/s?k=bags&page=16&crid=2M096C61O4MLT&qid=1664006420&sprefix=ba%2Caps%2C283&ref=sr_pg_16\n",
      "24\n",
      "https://www.amazon.in/s?k=bags&page=17&crid=2M096C61O4MLT&qid=1664006420&sprefix=ba%2Caps%2C283&ref=sr_pg_17\n",
      "24\n",
      "https://www.amazon.in/s?k=bags&page=18&crid=2M096C61O4MLT&qid=1664006420&sprefix=ba%2Caps%2C283&ref=sr_pg_18\n",
      "24\n",
      "https://www.amazon.in/s?k=bags&page=19&crid=2M096C61O4MLT&qid=1664006420&sprefix=ba%2Caps%2C283&ref=sr_pg_19\n",
      "23\n",
      "https://www.amazon.in/s?k=bags&page=20&crid=2M096C61O4MLT&qid=1664006420&sprefix=ba%2Caps%2C283&ref=sr_pg_20\n",
      "9\n"
     ]
    }
   ],
   "source": [
    "import requests\n",
    "from bs4 import BeautifulSoup\n",
    "import csv\n",
    "import pandas\n",
    "def fun(t):\n",
    "    for j in range(1,21):\n",
    "        n=str(j)\n",
    "        url=(\"https://www.amazon.in/s?k=\"+t+\"&page=\"+n+\"&crid=2M096C61O4MLT&qid=1664006420&sprefix=ba%2Caps%2C283&ref=sr_pg_\"+n+\"\")\n",
    "        print(url) \n",
    "#url=\"https://www.amazon.in/s?k=bags&crid=2M096C61O4MLT&qid=1653308124&sprefix=ba%2Caps%2C283&ref=sr_pg_1\"\n",
    "        headers={\"User-Agent\": \"Mozilla/5.0 (Windows NT 10.0; Win64; x64) AppleWebKit/537.36 (KHTML, like Gecko) Chrome/105.0.0.0 Safari/537.36\"}\n",
    "        page=requests.get(url,headers=headers)\n",
    "        soup1=BeautifulSoup(page.text,\"html.parser\")\n",
    "        soup2=BeautifulSoup(soup1.prettify(),\"html.parser\")\n",
    "        anchors=soup2.find_all('a',class_='a-link-normal s-underline-text s-underline-link-text s-link-style a-text-normal')\n",
    "        urls=[]\n",
    "        l=0\n",
    "        for anchor in anchors:\n",
    "            urls.append('https://www.amazon.in'+anchor.get('href'))\n",
    "        product_name=soup2.find_all('span',class_='a-size-medium a-color-base a-text-normal')\n",
    "        product_price=soup2.find_all('span',class_='a-offscreen')\n",
    "        rating=soup2.find_all('span',class_='a-icon-alt')\n",
    "        no_ratings=soup2.find_all('span',class_='a-size-base s-underline-text')\n",
    "\n",
    "        pu=[]\n",
    "        pn=[]\n",
    "        pp=[]\n",
    "        pr=[]\n",
    "        pnr=[]\n",
    "\n",
    "        a=0\n",
    "        b=0\n",
    "        for name,price,ratings,noratings in zip(product_name,product_price,rating,no_ratings):\n",
    "            pn.append(name.text)\n",
    "            pp.append(price.text)\n",
    "            pr.append(ratings.text)\n",
    "            pnr.append(noratings.text)\n",
    "            a=a+1\n",
    "        print(a)    \n",
    "       \n",
    "        \n",
    "        header=['Product_url','Product_name','Product_price','Ratings','no_ratings']    \n",
    "            \n",
    "        with open('pa.csv', 'w', encoding='UTF8') as f:\n",
    "            writer = csv.writer(f)\n",
    "\n",
    "    # write the header\n",
    "            writer.writerow(header)\n",
    "            writer.writerow(urls)\n",
    "            writer.writerow(pn)\n",
    "            writer.writerow(pp)\n",
    "            writer.writerow(pr)\n",
    "            writer.writerow(pnr)\n",
    "            \n",
    "fun(input(\"enter the product detalies\"))"
   ]
  },
  {
   "cell_type": "code",
   "execution_count": 8,
   "id": "18be7b63",
   "metadata": {},
   "outputs": [
    {
     "data": {
      "text/plain": [
       "2"
      ]
     },
     "execution_count": 8,
     "metadata": {},
     "output_type": "execute_result"
    }
   ],
   "source": [
    "int(4/2)"
   ]
  },
  {
   "cell_type": "code",
   "execution_count": null,
   "id": "76d06385",
   "metadata": {},
   "outputs": [],
   "source": [
    "b=a+1\n",
    "if b%2==0:\n",
    "    c=int(b/2)\n",
    "else:\n",
    "    b=b+1\n",
    "    c=int(b/2)\n",
    "for i in range(1,c):\n",
    "    print(urls[i].strip())\n",
    "    print(pn[i].strip())\n",
    "    print(pp[i].strip())\n",
    "    print(pr[i].strip())\n",
    "    print(pnr[i].strip())\n",
    "for i in range(c,a+1):\n",
    "    print(urls[i].strip())\n",
    "    print(pn[i].strip())\n",
    "    print(pp[i].strip())\n",
    "    print(pr[i].strip())\n",
    "    print(pnr[i].strip())"
   ]
  },
  {
   "cell_type": "code",
   "execution_count": 20,
   "id": "940be96a",
   "metadata": {},
   "outputs": [
    {
     "name": "stdout",
     "output_type": "stream",
     "text": [
      "enter the product detaliesbags\n",
      "https://www.amazon.in/s?k=bags&page=1&crid=2M096C61O4MLT&qid=1664006420&sprefix=ba%2Caps%2C283&ref=sr_pg_1\n",
      "https://www.amazon.in/s?k=bags&page=2&crid=2M096C61O4MLT&qid=1664006420&sprefix=ba%2Caps%2C283&ref=sr_pg_2\n",
      "https://www.amazon.in/s?k=bags&page=3&crid=2M096C61O4MLT&qid=1664006420&sprefix=ba%2Caps%2C283&ref=sr_pg_3\n",
      "https://www.amazon.in/s?k=bags&page=4&crid=2M096C61O4MLT&qid=1664006420&sprefix=ba%2Caps%2C283&ref=sr_pg_4\n",
      "https://www.amazon.in/s?k=bags&page=5&crid=2M096C61O4MLT&qid=1664006420&sprefix=ba%2Caps%2C283&ref=sr_pg_5\n",
      "https://www.amazon.in/s?k=bags&page=6&crid=2M096C61O4MLT&qid=1664006420&sprefix=ba%2Caps%2C283&ref=sr_pg_6\n",
      "https://www.amazon.in/s?k=bags&page=7&crid=2M096C61O4MLT&qid=1664006420&sprefix=ba%2Caps%2C283&ref=sr_pg_7\n",
      "https://www.amazon.in/s?k=bags&page=8&crid=2M096C61O4MLT&qid=1664006420&sprefix=ba%2Caps%2C283&ref=sr_pg_8\n",
      "https://www.amazon.in/s?k=bags&page=9&crid=2M096C61O4MLT&qid=1664006420&sprefix=ba%2Caps%2C283&ref=sr_pg_9\n",
      "https://www.amazon.in/s?k=bags&page=10&crid=2M096C61O4MLT&qid=1664006420&sprefix=ba%2Caps%2C283&ref=sr_pg_10\n",
      "https://www.amazon.in/s?k=bags&page=11&crid=2M096C61O4MLT&qid=1664006420&sprefix=ba%2Caps%2C283&ref=sr_pg_11\n",
      "https://www.amazon.in/s?k=bags&page=12&crid=2M096C61O4MLT&qid=1664006420&sprefix=ba%2Caps%2C283&ref=sr_pg_12\n",
      "https://www.amazon.in/s?k=bags&page=13&crid=2M096C61O4MLT&qid=1664006420&sprefix=ba%2Caps%2C283&ref=sr_pg_13\n",
      "https://www.amazon.in/s?k=bags&page=14&crid=2M096C61O4MLT&qid=1664006420&sprefix=ba%2Caps%2C283&ref=sr_pg_14\n",
      "https://www.amazon.in/s?k=bags&page=15&crid=2M096C61O4MLT&qid=1664006420&sprefix=ba%2Caps%2C283&ref=sr_pg_15\n",
      "https://www.amazon.in/s?k=bags&page=16&crid=2M096C61O4MLT&qid=1664006420&sprefix=ba%2Caps%2C283&ref=sr_pg_16\n",
      "https://www.amazon.in/s?k=bags&page=17&crid=2M096C61O4MLT&qid=1664006420&sprefix=ba%2Caps%2C283&ref=sr_pg_17\n",
      "https://www.amazon.in/s?k=bags&page=18&crid=2M096C61O4MLT&qid=1664006420&sprefix=ba%2Caps%2C283&ref=sr_pg_18\n",
      "https://www.amazon.in/s?k=bags&page=19&crid=2M096C61O4MLT&qid=1664006420&sprefix=ba%2Caps%2C283&ref=sr_pg_19\n",
      "https://www.amazon.in/s?k=bags&page=20&crid=2M096C61O4MLT&qid=1664006420&sprefix=ba%2Caps%2C283&ref=sr_pg_20\n"
     ]
    }
   ],
   "source": [
    "def fun(t):\n",
    "    for j in range(1,21):\n",
    "        n=str(j)\n",
    "        urls=(\"https://www.amazon.in/s?k=\"+t+\"&page=\"+n+\"&crid=2M096C61O4MLT&qid=1664006420&sprefix=ba%2Caps%2C283&ref=sr_pg_\"+n+\"\")\n",
    "fun(input(\"enter the product detalies\"))        \n",
    "        \n",
    "        \n",
    "        \n",
    "        \n",
    "        \n",
    "        "
   ]
  },
  {
   "cell_type": "code",
   "execution_count": null,
   "id": "a4b63bcb",
   "metadata": {},
   "outputs": [],
   "source": []
  }
 ],
 "metadata": {
  "kernelspec": {
   "display_name": "Python 3 (ipykernel)",
   "language": "python",
   "name": "python3"
  },
  "language_info": {
   "codemirror_mode": {
    "name": "ipython",
    "version": 3
   },
   "file_extension": ".py",
   "mimetype": "text/x-python",
   "name": "python",
   "nbconvert_exporter": "python",
   "pygments_lexer": "ipython3",
   "version": "3.9.12"
  }
 },
 "nbformat": 4,
 "nbformat_minor": 5
}
